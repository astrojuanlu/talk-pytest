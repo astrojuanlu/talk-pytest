{
 "cells": [
  {
   "cell_type": "markdown",
   "metadata": {
    "slideshow": {
     "slide_type": "slide"
    }
   },
   "source": [
    "<header style=\"background-image: url('img/metropolis-tv-series-pic.jpg'); background-size: cover; padding: 50px 0;font-size: 1.5em;background-repeat: no-repeat;\">\n",
    "  <div style=\"padding: 10px 25px; background-color: #fff9 !important;\">\n",
    "  <h1 style=\"color: black;text-shadow: #ccc 5px 5px 0px; margin-bottom: 1em\">Introduction to pytest by example</h1>\n",
    "  <img src=\"img/pytest.png\" style=\"margin: 0 auto\" />\n",
    "  <h2 style=\"text-align: right;font-size: 1em;\">Juan Luis Cano Rodríguez &lt;hello@juanlu.space&gt;<br/>2020-05-07 @ PyData Salamanca #StayAtHome</h2>\n",
    "  </div>\n",
    "  </header>"
   ]
  },
  {
   "cell_type": "markdown",
   "metadata": {
    "slideshow": {
     "slide_type": "slide"
    }
   },
   "source": [
    "# Outline\n",
    "\n",
    "1. What is testing, and why should you care\n",
    "2. The red - green - refactor workflow\n",
    "3. Testing in Python\n",
    "4. Let's write some tests!\n",
    "5. Conclusion"
   ]
  },
  {
   "cell_type": "markdown",
   "metadata": {
    "slideshow": {
     "slide_type": "slide"
    }
   },
   "source": [
    "# Who is this guy?\n",
    "\n",
    "* **Aerospace Engineer** with a passion for orbits 🛰\n",
    "* Former chair of the **Python España** non profit and former co-organizer of **PyCon Spain** 🐍\n",
    "* **Mission Planning & Execution Engineer** at **Satellogic** 🌍\n",
    "* Free Software advocate and Python enthusiast 🕮\n",
    "* Hard Rock lover 🎸\n",
    "\n",
    "Follow me! https://github.com/astrojuanlu/\n",
    "\n",
    "![Me!](img/juanlu_esa.jpg)"
   ]
  },
  {
   "cell_type": "markdown",
   "metadata": {
    "slideshow": {
     "slide_type": "slide"
    }
   },
   "source": [
    "# 1. What is testing, and why should you care\n",
    "\n",
    "![You are the tests](img/you-are-the-tests.png)\n",
    "\n",
    "https://twitter.com/JennyBryan/status/1043307291909316609"
   ]
  },
  {
   "cell_type": "markdown",
   "metadata": {
    "slideshow": {
     "slide_type": "notes"
    }
   },
   "source": [
    "Computers excel at doing repetitive tasks: they basically never make mistakes (the mistake might be in what we told the computer to do). Humans, on the other hand, fail more often, especially under pressure, or on Friday afternoons and Monday mornings. Therefore, instead of letting the humans be the tests, we will use the computer to **frequently verify that our software works as specified**."
   ]
  },
  {
   "cell_type": "markdown",
   "metadata": {
    "slideshow": {
     "slide_type": "slide"
    }
   },
   "source": [
    "# 2. The red - green - refactor workflow\n",
    "\n",
    "Test-Driven Development shifts the focus of software development to writing tests. The \"practice of test-first development, planning and writing tests before each micro-increment\" is not new: it was in use at NASA in the early 1960s (source). In the 1990s, Extreme Programming took this concept to the extreme by the use of small, automated tests.\n",
    "\n",
    "The \"test-driven development mantra\" is **Red** - **Green** - **Refactor**:\n",
    "\n",
    "![Red-Green-Refactor](img/red-green-refactor.png)"
   ]
  },
  {
   "cell_type": "markdown",
   "metadata": {
    "slideshow": {
     "slide_type": "notes"
    }
   },
   "source": [
    "1. Write a test. **Watch it fail**.\n",
    "2. Write just enough code to **pass the test**.\n",
    "3. Improve the code without breaking the test.\n",
    "4. Repeat."
   ]
  },
  {
   "cell_type": "markdown",
   "metadata": {
    "slideshow": {
     "slide_type": "slide"
    }
   },
   "source": [
    "# 3. Testing in Python\n",
    "\n",
    "There's `unittest` in the standard library, but it's much easier to write tests with...\n",
    "\n",
    "![pytest](img/pytest.png)\n",
    "\n",
    "> pytest is a mature full-featured Python testing tool that helps you write better programs.\n",
    "\n",
    "* Latest stable version (at the time of writing) 5.4.1, (~2 months ago)\n",
    "* Documentation https://docs.pytest.org/\n",
    "* MIT License (commercial-friendly)"
   ]
  },
  {
   "cell_type": "markdown",
   "metadata": {
    "slideshow": {
     "slide_type": "subslide"
    }
   },
   "source": [
    "Easy to install:\n",
    "\n",
    "```\n",
    "$ pip install pytest\n",
    "$ conda install pytest [--channel conda-forge]\n",
    "```"
   ]
  },
  {
   "cell_type": "markdown",
   "metadata": {
    "slideshow": {
     "slide_type": "fragment"
    }
   },
   "source": [
    "And to run!\n",
    "\n",
    "```\n",
    "$ pytest\n",
    "```"
   ]
  },
  {
   "cell_type": "markdown",
   "metadata": {
    "slideshow": {
     "slide_type": "slide"
    }
   },
   "source": [
    "# 4. Let's write some tests!\n",
    "\n",
    "![Excited](img/excited.gif)"
   ]
  },
  {
   "cell_type": "markdown",
   "metadata": {
    "slideshow": {
     "slide_type": "slide"
    }
   },
   "source": [
    "# Conclusion\n",
    "\n",
    "## Write tests.\n",
    "\n",
    "---\n",
    "\n",
    "* Slides https://github.com/astrojuanlu/talk-pytest\n",
    "* My email <hello@juanlu.space>\n",
    "\n",
    "![Just the beginning](img/just-the-beginning.gif)"
   ]
  }
 ],
 "metadata": {
  "celltoolbar": "Slideshow",
  "kernelspec": {
   "display_name": "Python 3",
   "language": "python",
   "name": "python3"
  },
  "language_info": {
   "codemirror_mode": {
    "name": "ipython",
    "version": 3
   },
   "file_extension": ".py",
   "mimetype": "text/x-python",
   "name": "python",
   "nbconvert_exporter": "python",
   "pygments_lexer": "ipython3",
   "version": "3.8.2"
  }
 },
 "nbformat": 4,
 "nbformat_minor": 2
}
